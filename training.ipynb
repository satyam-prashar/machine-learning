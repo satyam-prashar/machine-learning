{
 "cells": [
  {
   "cell_type": "code",
   "execution_count": 1,
   "id": "7f967726",
   "metadata": {},
   "outputs": [],
   "source": [
    "import numpy as np\n",
    "\n",
    "data=np.load('data.npy')\n",
    "target=np.load('target.npy')\n"
   ]
  },
  {
   "cell_type": "code",
   "execution_count": 2,
   "id": "61fde015",
   "metadata": {},
   "outputs": [
    {
     "name": "stderr",
     "output_type": "stream",
     "text": [
      "Using TensorFlow backend.\n"
     ]
    }
   ],
   "source": [
    "from keras.models import Sequential\n",
    "from keras.layers import Dense,Activation,Flatten,Dropout\n",
    "from keras.layers import Conv2D,MaxPooling2D\n",
    "from keras.callbacks import ModelCheckpoint\n",
    "\n",
    "model=Sequential()\n",
    "\n",
    "model.add(Conv2D(250,(3,3),input_shape=data.shape[1:]))\n",
    "model.add(Activation('relu'))\n",
    "model.add(MaxPooling2D(pool_size=(2,2)))\n",
    "\n",
    "model.add(Conv2D(150,(3,3)))\n",
    "model.add(Activation('relu'))\n",
    "model.add(MaxPooling2D(pool_size=(2,2)))\n",
    "\n",
    "model.add(Flatten())\n",
    "model.add(Dropout(0.5))\n",
    "model.add(Dense(50,activation='relu'))\n",
    "model.add(Dense(2,activation='softmax'))\n",
    "model.compile(loss='categorical_crossentropy',optimizer='adam',metrics=['accuracy'])"
   ]
  },
  {
   "cell_type": "code",
   "execution_count": 3,
   "id": "db892475",
   "metadata": {},
   "outputs": [],
   "source": [
    "from sklearn.model_selection import train_test_split\n",
    "\n",
    "train_data,test_data,train_target,test_target=train_test_split(data,target,test_size=0.1)"
   ]
  },
  {
   "cell_type": "code",
   "execution_count": 4,
   "id": "17c00918",
   "metadata": {},
   "outputs": [
    {
     "name": "stdout",
     "output_type": "stream",
     "text": [
      "Train on 990 samples, validate on 248 samples\n",
      "Epoch 1/20\n",
      "990/990 [==============================] - 96s 97ms/step - loss: 0.7570 - accuracy: 0.5141 - val_loss: 0.6794 - val_accuracy: 0.6573\n",
      "Epoch 2/20\n",
      "990/990 [==============================] - 100s 101ms/step - loss: 0.6354 - accuracy: 0.6556 - val_loss: 0.5529 - val_accuracy: 0.7581\n",
      "Epoch 3/20\n",
      "990/990 [==============================] - 96s 97ms/step - loss: 0.4548 - accuracy: 0.8071 - val_loss: 0.3251 - val_accuracy: 0.8589\n",
      "Epoch 4/20\n",
      "990/990 [==============================] - 98s 99ms/step - loss: 0.3388 - accuracy: 0.8596 - val_loss: 0.2722 - val_accuracy: 0.8911\n",
      "Epoch 5/20\n",
      "990/990 [==============================] - 113s 114ms/step - loss: 0.2468 - accuracy: 0.9121 - val_loss: 0.2085 - val_accuracy: 0.9395\n",
      "Epoch 6/20\n",
      "990/990 [==============================] - 107s 108ms/step - loss: 0.1883 - accuracy: 0.9283 - val_loss: 0.1638 - val_accuracy: 0.9516\n",
      "Epoch 7/20\n",
      "990/990 [==============================] - 97s 98ms/step - loss: 0.1343 - accuracy: 0.9576 - val_loss: 0.1851 - val_accuracy: 0.9355\n",
      "Epoch 8/20\n",
      "990/990 [==============================] - 109s 110ms/step - loss: 0.1733 - accuracy: 0.9313 - val_loss: 0.1715 - val_accuracy: 0.9315\n",
      "Epoch 9/20\n",
      "990/990 [==============================] - 119s 120ms/step - loss: 0.1066 - accuracy: 0.9525 - val_loss: 0.1846 - val_accuracy: 0.9315\n",
      "Epoch 10/20\n",
      "990/990 [==============================] - 111s 113ms/step - loss: 0.0710 - accuracy: 0.9747 - val_loss: 0.1341 - val_accuracy: 0.9597\n",
      "Epoch 11/20\n",
      "990/990 [==============================] - 111s 112ms/step - loss: 0.0522 - accuracy: 0.9818 - val_loss: 0.1556 - val_accuracy: 0.9556\n",
      "Epoch 12/20\n",
      "990/990 [==============================] - 106s 107ms/step - loss: 0.0519 - accuracy: 0.9818 - val_loss: 0.1406 - val_accuracy: 0.9556\n",
      "Epoch 13/20\n",
      "990/990 [==============================] - 96s 96ms/step - loss: 0.0360 - accuracy: 0.9909 - val_loss: 0.1845 - val_accuracy: 0.9516\n",
      "Epoch 14/20\n",
      "990/990 [==============================] - 98s 99ms/step - loss: 0.0352 - accuracy: 0.9899 - val_loss: 0.1761 - val_accuracy: 0.9395\n",
      "Epoch 15/20\n",
      "990/990 [==============================] - 102s 103ms/step - loss: 0.0339 - accuracy: 0.9899 - val_loss: 0.2108 - val_accuracy: 0.9355\n",
      "Epoch 16/20\n",
      "990/990 [==============================] - 93s 94ms/step - loss: 0.0318 - accuracy: 0.9859 - val_loss: 0.2397 - val_accuracy: 0.9194\n",
      "Epoch 17/20\n",
      "990/990 [==============================] - 102s 103ms/step - loss: 0.0401 - accuracy: 0.9828 - val_loss: 0.1345 - val_accuracy: 0.9597\n",
      "Epoch 18/20\n",
      "990/990 [==============================] - 105s 106ms/step - loss: 0.0202 - accuracy: 0.9929 - val_loss: 0.1379 - val_accuracy: 0.9637\n",
      "Epoch 19/20\n",
      "990/990 [==============================] - 98s 99ms/step - loss: 0.0280 - accuracy: 0.9939 - val_loss: 0.1434 - val_accuracy: 0.9597\n",
      "Epoch 20/20\n",
      "990/990 [==============================] - 98s 99ms/step - loss: 0.0306 - accuracy: 0.9899 - val_loss: 0.1608 - val_accuracy: 0.9556\n"
     ]
    }
   ],
   "source": [
    "checkpoint = ModelCheckpoint('model-{epoch:03d}.model',monitor='val_loss',verbose=0,save_best_only=True,mode='auto')\n",
    "history=model.fit(train_data,train_target,epochs=20,callbacks=[checkpoint],validation_split=0.2)"
   ]
  },
  {
   "cell_type": "code",
   "execution_count": 5,
   "id": "88a18c64",
   "metadata": {},
   "outputs": [
    {
     "name": "stdout",
     "output_type": "stream",
     "text": [
      "138/138 [==============================] - 3s 25ms/step\n",
      "[0.1859552804178194, 0.9347826242446899]\n"
     ]
    }
   ],
   "source": [
    "print(model.evaluate(test_data,test_target))"
   ]
  },
  {
   "cell_type": "code",
   "execution_count": null,
   "id": "edd9ebd5",
   "metadata": {},
   "outputs": [],
   "source": []
  }
 ],
 "metadata": {
  "kernelspec": {
   "display_name": "Python 3 (ipykernel)",
   "language": "python",
   "name": "python3"
  },
  "language_info": {
   "codemirror_mode": {
    "name": "ipython",
    "version": 3
   },
   "file_extension": ".py",
   "mimetype": "text/x-python",
   "name": "python",
   "nbconvert_exporter": "python",
   "pygments_lexer": "ipython3",
   "version": "3.7.11"
  }
 },
 "nbformat": 4,
 "nbformat_minor": 5
}
